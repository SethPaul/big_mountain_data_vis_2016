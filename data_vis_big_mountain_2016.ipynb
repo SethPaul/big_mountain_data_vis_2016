{
 "cells": [
  {
   "cell_type": "code",
   "execution_count": 1,
   "metadata": {
    "collapsed": false
   },
   "outputs": [
    {
     "name": "stderr",
     "output_type": "stream",
     "text": [
      "\n",
      "Attaching package: ‘dplyr’\n",
      "\n",
      "The following objects are masked from ‘package:stats’:\n",
      "\n",
      "    filter, lag\n",
      "\n",
      "The following objects are masked from ‘package:base’:\n",
      "\n",
      "    intersect, setdiff, setequal, union\n",
      "\n"
     ]
    }
   ],
   "source": [
    "library(ggplot2) # for graphs\n",
    "library(dotenv) # for hiding your secret stuff in shared code\n",
    "library(tidyr) # data manipulation\n",
    "library(dplyr) # super duper data manipulation\n",
    "library(scales) # axis formating tools\n",
    "library(repr) # modify plot sizes in jupyter notebook"
   ]
  },
  {
   "cell_type": "code",
   "execution_count": 2,
   "metadata": {
    "collapsed": true
   },
   "outputs": [],
   "source": [
    "# Change plot size to 10 x 8\n",
    "options(repr.plot.width=10, repr.plot.height=8)"
   ]
  },
  {
   "cell_type": "markdown",
   "metadata": {},
   "source": [
    "## For secret stuff"
   ]
  },
  {
   "cell_type": "code",
   "execution_count": 4,
   "metadata": {
    "collapsed": true
   },
   "outputs": [],
   "source": [
    "load_dot_env('~/.env')\n",
    "user = Sys.getenv(\"LOGIN_USER\")\n",
    "password = Sys.getenv(\"LOGIN_PASS\")"
   ]
  },
  {
   "cell_type": "markdown",
   "metadata": {},
   "source": [
    "## For database access"
   ]
  },
  {
   "cell_type": "raw",
   "metadata": {},
   "source": [
    "library(RPostgreSQL)\n",
    "library(RRedshiftSQL)\n",
    "\n",
    "user = Sys.getenv(\"REDSHIFT_USER\")\n",
    "password = Sys.getenv(\"REDSHIFT_PASS\")\n",
    "host = Sys.getenv(\"REDSHIFT_HOST\")\n",
    "port = Sys.getenv(\"REDSHIFT_PORT\")\n",
    "dbname = Sys.getenv(\"PRD_REDSHIFT_DB\")\n",
    "con <- dbConnect(drv = RedshiftSQL(),  dbname=dbname, host=host, port= port, user=user, password=password)\n",
    "query <- \"SELECT 1\"\n",
    "df <- dbGetQuery(con, query) "
   ]
  },
  {
   "cell_type": "markdown",
   "metadata": {},
   "source": [
    "AES"
   ]
  },
  {
   "cell_type": "raw",
   "metadata": {},
   "source": [
    "theme"
   ]
  },
  {
   "cell_type": "markdown",
   "metadata": {},
   "source": [
    "facets"
   ]
  },
  {
   "cell_type": "markdown",
   "metadata": {},
   "source": [
    "jitter"
   ]
  },
  {
   "cell_type": "markdown",
   "metadata": {},
   "source": [
    "color/fill"
   ]
  },
  {
   "cell_type": "markdown",
   "metadata": {},
   "source": [
    "Geom_text annotate, vline, hline"
   ]
  },
  {
   "cell_type": "markdown",
   "metadata": {},
   "source": [
    "boxplot"
   ]
  },
  {
   "cell_type": "markdown",
   "metadata": {},
   "source": [
    "histogram"
   ]
  },
  {
   "cell_type": "markdown",
   "metadata": {},
   "source": [
    "violin plot"
   ]
  },
  {
   "cell_type": "markdown",
   "metadata": {},
   "source": [
    "corrmap"
   ]
  },
  {
   "cell_type": "markdown",
   "metadata": {},
   "source": [
    "Chloropleth/heat map"
   ]
  }
 ],
 "metadata": {
  "kernelspec": {
   "display_name": "R",
   "language": "R",
   "name": "ir"
  },
  "language_info": {
   "codemirror_mode": "r",
   "file_extension": ".r",
   "mimetype": "text/x-r-source",
   "name": "R",
   "pygments_lexer": "r",
   "version": "3.3.1"
  }
 },
 "nbformat": 4,
 "nbformat_minor": 0
}
